{
 "cells": [
  {
   "cell_type": "code",
   "execution_count": 11,
   "metadata": {},
   "outputs": [],
   "source": [
    "#%matplotlib inline\n",
    "import numpy as np\n",
    "import matplotlib.pyplot as plt\n",
    "#import matplotlib as mpl\n",
    "#mpl.rcParams['errorbar.capsize'] = 3\n",
    "\n",
    "def iniState(N,F,Q):\n",
    "    return np.random.randint(Q,size=(N,F))\n",
    "\n",
    "def chooseBlat(a):\n",
    "    b1=np.random.randint(D*2)\n",
    "    if b1==0: \n",
    "        if (a+1)%L==0:\n",
    "            b=a+1-L\n",
    "        else: b=a+1\n",
    "    elif b1==1:\n",
    "        if a%L==0:\n",
    "            b=a-1+L\n",
    "        else: b=a-1\n",
    "    elif b1==2: b=a+L\n",
    "    else: b=a-L\n",
    "    return b%N\n",
    "\n",
    "def AdD(D,L):\n",
    "    # This function returns the sparse adjacency matrix of a d-dimensonal  \n",
    "    # integer lattice with side L and the total number of elements N=L**d\n",
    "    # Only for Periodic Boundary Conditions\n",
    "    \n",
    "    import scipy.sparse as ss\n",
    "    N=L**D\n",
    "    A=ss.dok_matrix((N,N),dtype=int)   # integer\n",
    "    for i in range(N):\n",
    "        for j in range(D):\n",
    "            A[i,(i+L**j)%N] = 1\n",
    "            A[i,(i-L**j)%N] = 1\n",
    "    return A.copy()#.tocoo()\n",
    "\n",
    "def chooseB(a,A):\n",
    "    return A[a].nonzero()[1][np.random.randint(2*D)]\n",
    "\n",
    "def calcMag(indi):\n",
    "    mag=np.zeros((F,Q))\n",
    "    for f in range(F):\n",
    "        for q in range(Q):\n",
    "            for i in range(N):\n",
    "                if indi[i,f]==q:\n",
    "                    mag[f,q]+=1\n",
    "    return mag/N\n",
    "\n",
    "def Bdx(a):\n",
    "    if (a+1)%L==0:\n",
    "        b=a+1-L\n",
    "    else: b=a+1\n",
    "    return np.int(b)\n",
    "        \n",
    "def Bdw(a):\n",
    "    b=a+L\n",
    "    return np.int(b%N)"
   ]
  },
  {
   "cell_type": "code",
   "execution_count": null,
   "metadata": {},
   "outputs": [
    {
     "name": "stdout",
     "output_type": "stream",
     "text": [
      "1788\r"
     ]
    }
   ],
   "source": [
    "%%time\n",
    "\n",
    "Lv=np.array([100])\n",
    "D=2\n",
    "F=10\n",
    "# Q=14\n",
    "\n",
    "TN=10000\n",
    "T=100\n",
    "\n",
    "nA=np.zeros(TN)\n",
    "\n",
    "rep=1\n",
    "\n",
    "Qrange=np.array([100])\n",
    "qrange=np.arange(Qrange.size)\n",
    "magv=np.zeros((Lv.size,Qrange.size,rep))\n",
    "TCv=np.zeros((Lv.size,Qrange.size,rep))\n",
    "\n",
    "ll=0\n",
    "for L in Lv:\n",
    "    N=L**D\n",
    "    for rip in range(rep):\n",
    "        q=0\n",
    "        for Q in Qrange:\n",
    "\n",
    "            TC=TN-1\n",
    "            ind=np.zeros((TN+1,N,F),dtype=int)\n",
    "            ind[0]=iniState(N,F,Q)\n",
    "            indt=np.zeros((T+1,N,F),dtype=int)\n",
    "            mag=np.zeros((TN,F,Q))\n",
    "            \n",
    "            \n",
    "\n",
    "            for tnn in np.arange(TN):\n",
    "                Act=np.zeros((D*N,2),dtype=int)-1\n",
    "                for ai in range(N):\n",
    "                    bi=Bdx(ai)\n",
    "                    if (ind[tnn,ai]==ind[tnn,bi]).any() and (ind[tnn,ai]!=ind[tnn,bi]).any():\n",
    "                        Act[D*ai]=np.array([ai,bi])\n",
    "\n",
    "                    ci=Bdw(ai)\n",
    "                    if(ind[tnn,ai]==ind[tnn,ci]).any() and (ind[tnn,ai]!=ind[tnn,ci]).any():\n",
    "                        Act[D*ai+1]=np.array([ai,ci])\n",
    "                        \n",
    "                nA[tnn]=(Act[:,0]+1).nonzero()[0].size\n",
    "                \n",
    "                if nA[tnn]==0:\n",
    "                    TC=tnn\n",
    "                    break\n",
    "                \n",
    "                mag[tnn]=calcMag(ind[tnn])\n",
    "                \n",
    "                indt[0]=ind[tnn].copy()\n",
    "                for tn in np.arange(T):\n",
    "                    a=np.random.randint(N)\n",
    "                    b=chooseBlat(a)\n",
    "\n",
    "                    indt[tn+1]=indt[tn].copy()\n",
    "\n",
    "                    if (indt[tn,a]!=indt[tn,b]).any() and (indt[tn,a]==indt[tn,b]).any():\n",
    "                        c=np.random.randint(F)\n",
    "                        if indt[tn,a,c]==indt[tn,b,c]:\n",
    "                            dd=np.random.randint(F)\n",
    "                            for Fi in range(F):\n",
    "                                d=(dd+Fi)%F\n",
    "                                if indt[tn,a,d]!=indt[tn,b,d]:\n",
    "                                    indt[tn+1,a,d]=indt[tn,b,d].copy()\n",
    "                                    break\n",
    "\n",
    "                ind[tnn+1]=indt[tn+1].copy()\n",
    "                \n",
    "                print('{}\\r'.format(tnn), end=\"\")\n",
    "\n",
    "\n",
    "            #mag[TC:]=mag[TC]\n",
    "            magv[ll,q,rip]=np.amax(mag[TC])\n",
    "            TCv[ll,q,rip]=TC\n",
    "            q+=1\n",
    "        \n",
    "    ll+=1\n",
    "    \n",
    "print()\n",
    "for i in range(Lv.size):\n",
    "    plt.plot(range(TC),nA[:TC]/N)\n",
    "    plt.xscale(\"log\")\n",
    "plt.show()\n",
    "\n"
   ]
  },
  {
   "cell_type": "code",
   "execution_count": 84,
   "metadata": {},
   "outputs": [
    {
     "data": {
      "image/png": "[encoded data removed]",
      "text/plain": [
       "<Figure size 432x288 with 1 Axes>"
      ]
     },
     "metadata": {
      "needs_background": "light"
     },
     "output_type": "display_data"
    }
   ],
   "source": [
    "plt.plot(range(TC),nA[:TC]/N)\n",
    "plt.xscale(\"log\")"
   ]
  },
  {
   "cell_type": "code",
   "execution_count": null,
   "metadata": {},
   "outputs": [],
   "source": [
    "(Act+1).nonzero()"
   ]
  },
  {
   "cell_type": "code",
   "execution_count": 9,
   "metadata": {},
   "outputs": [
    {
     "data": {
      "image/png": "[encoded data removed]",
      "text/plain": [
       "<Figure size 432x288 with 1 Axes>"
      ]
     },
     "metadata": {
      "needs_background": "light"
     },
     "output_type": "display_data"
    }
   ],
   "source": [
    "for i in range(Lv.size):\n",
    "    plt.errorbar(Qrange,magv[i].mean(axis=1),yerr=magv[i].std(axis=1), label=\"L=\"+str(Lv[i]), marker='.')\n",
    "    plt.xlabel('q')\n",
    "    plt.ylabel('<s>/L^2')\n",
    "    \n",
    "plt.legend()\n",
    "plt.show()"
   ]
  },
  {
   "cell_type": "code",
   "execution_count": null,
   "metadata": {},
   "outputs": [],
   "source": [
    "'''                if (ind[tnn]==0).all():\n",
    "                    TC=tnn\n",
    "                    break\n",
    "                    \n",
    "                \n",
    "                \n",
    "                if tnn>10:\n",
    "                    if (mag[tnn-3,:,0]==mag[tnn-4,:,0]).all():\n",
    "                        if(mag[tnn-2,:,0]==mag[tnn-3,:,0]).all():\n",
    "                            if(mag[tnn-1]==mag[tnn-2]).all():\n",
    "                                if(mag[tnn]==mag[tnn-1]).all():\n",
    "                                    TC=tnn-3\n",
    "                                    break'''"
   ]
  }
 ],
 "metadata": {
  "environment": {
   "name": "common-cpu.m55",
   "type": "gcloud",
   "uri": "gcr.io/deeplearning-platform-release/base-cpu:m55"
  },
  "kernelspec": {
   "display_name": "Python 3",
   "language": "python",
   "name": "python3"
  },
  "language_info": {
   "codemirror_mode": {
    "name": "ipython",
    "version": 3
   },
   "file_extension": ".py",
   "mimetype": "text/x-python",
   "name": "python",
   "nbconvert_exporter": "python",
   "pygments_lexer": "ipython3",
   "version": "3.7.8"
  }
 },
 "nbformat": 4,
 "nbformat_minor": 4
}
