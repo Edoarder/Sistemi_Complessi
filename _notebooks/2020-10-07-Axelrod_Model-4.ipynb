{
 "cells": [
  {
   "cell_type": "markdown",
   "metadata": {},
   "source": [
    "# \"Modello di Axelrod\"\n",
    "> \"Implementazione del modello e analisi delle sue proprietà \""
   ]
  },
  {
   "cell_type": "markdown",
   "metadata": {},
   "source": [
    "In questa relazione mi occuperò di studiare numericamente e, in parte, analiticiamente un modello Agent-Based di Cultural Dynamics, ovvero un'estensione vettoriale della dinamica delle opinioni: il modello di Axelrod.\n"
   ]
  },
  {
   "cell_type": "markdown",
   "metadata": {},
   "source": [
    "# Introduzione"
   ]
  },
  {
   "cell_type": "markdown",
   "metadata": {},
   "source": [
    "Negli ultimi anni si è iniziato a studiare i fenomeni collettivi, emergenti da un insieme di persone, attraverso un formlismo matematico afferente per lo più alla fisica statistica, scienza delle reti e più in generale ai sistemi complessi. Nonostante nella storia della scienza, ed in particolare della fisica, ci sono esempi di studiosi che hanno applicato modelli quantitativi a problemi che riguardavano la sociologia, solo negli ultimi anni si è formata una corrente di studi incentrata appunto sul descrivere il comportamento collettivo umano attraverso modelli matematici: la sociofisica. \n",
    "\n",
    "Uno dei primi campi di ricerca in questo ambito è stato la dinamica delle opinioni, in cui si cerca di descrivere come una opinione appunto possa essere trasmessa tra vari individui appartenenti ad una rete sociale, cercando di studiarne gli effetti finali \"macroscopici\", quali la formazione di un consenso unanime (problema simile a quello della transizione ferromagnetica) o la formazione di cluster di opinioni e la loro dinamica.\n",
    "Uno dei modelli più importanti di dinamica delle opinioni è il Voter Model.\n",
    "#### descrivere voter model\n",
    "Il modello in esame in questa relazione può essere visto, almeno nella sua versione originale, come un insieme di Voter Model accoppiati. Esiste quindi un numero $F$ di possibili diversi argomenti (features culturali) per i quali un individuo può avere $Q$ diverse opinioni. Esempi di features possono essere “linguaggio, arte, **norme tecniche** e regole sociali” [1], *i quali valori delle opinioni possono cambiare solo attraverso un'influenza sociale, quindi in questo modello non verrano considerati gli effetti di istituzioni centrali e mass media, ma la dinamica avverrà solamente tra individui il che porterà la rete sociale ad autorganizzarsi.*\n",
    "\n",
    "Le proprietà chiave di questo modello sono principalmente due:\n",
    "1. Individui che condividono un maggior numero di features hanno maggiore probabilità di interazione (homophily)\n",
    "2. Ogni interazione aumenta il numero di features che i due soggetti hanno in comune.\n",
    "\n"
   ]
  },
  {
   "cell_type": "markdown",
   "metadata": {},
   "source": [
    "# Algoritmo e implementazione"
   ]
  },
  {
   "cell_type": "markdown",
   "metadata": {},
   "source": [
    "Il modello è definito su un reticolo quadrato di lato $L$, in cui il numero totale degli individui è dunque $N=L^2$.\n",
    "Su ogni sito $i$ è definito un set di $F$ features culturali $q_{i,f}$, numeri interi che vanno da 0 a $Q$ per ogni $f$ che va da 0 a $F$. Nello stato iniziale tutti i valori $q_{i,f}$ sono estratti in maniera casuale da una distribuzione uniforme. \n",
    "\n",
    "Ad ogni passo temporale viene scelto un sito $i$ random ed un suo primo vicino $j$ sempre random. Viene dunque estratta in maniera casuale una feature $f$ e se risulta che $q_{i,f} \\neq q_{j,f}$ si prosegue col passo temporale successivo senza apportare modifiche, altrimenti se le due features risultano uguali, si estrae a sorte una seconda features $f'$ tra le features che risultano diverse, ovvero tale che $q_{i,f'} \\neq q_{j,f'}$ e la prima si impone uguale alla seconda: $q_{i,f'} = q_{j,f'}$.\n",
    "\n",
    "L'algoritmo è dunque formato da un ciclo di step elementari del tipo:\n",
    "\n",
    "1. Estrazione random di $i$ tra 0 ed $N$\n",
    "2. Estrazione random di $j$ tra i primi vicini di $i$\n",
    "3. Estrazione random di $f$ tra 0 ed $F$\n",
    "4. Se $q_{i,f} \\neq q_{j,f}$:\n",
    "    1. Step successivo\n",
    "5. Altrimenti se $q_{i,f} = q_{j,f}$:\n",
    "    1. Estrazione random di $f'$ tale che $q_{i,f'} \\neq q_{j,f'}$\n",
    "    2. Si impone $q_{i,f'} = q_{j,f'}$\n",
    "    3. Step successivo"
   ]
  },
  {
   "cell_type": "markdown",
   "metadata": {},
   "source": [
    "### ***ottimizzare codice***"
   ]
  },
  {
   "cell_type": "code",
   "execution_count": null,
   "metadata": {},
   "outputs": [],
   "source": [
    "#collapse\n",
    "%%time\n",
    "\n",
    "L=10\n",
    "D=2\n",
    "N=L**D\n",
    "F=10\n",
    "Q=4\n",
    "ind=np.random.randint(Q,size=(N,F))\n",
    "\n",
    "TN=100\n",
    "T=1000\n",
    "t=np.arange(T)\n",
    "ok=False\n",
    "\n",
    "aa=np.zeros((TN,L,L),dtype=int)\n",
    "\n",
    "#fig, ax = plt.subplots(figsize=(4, 4))\n",
    "\n",
    "for tnn in range(TN):\n",
    "    for tn in t:\n",
    "        a=np.random.randint(N)\n",
    "        b1=np.random.randint(D*2)\n",
    "        if b1==0: \n",
    "            if (a+1)%L==0:\n",
    "                b=a+1-L\n",
    "            else: b=a+1\n",
    "        elif b1==1:\n",
    "            if a%L==0:\n",
    "                b=a-1+L\n",
    "            else: b=a-1\n",
    "        elif b1==2: b=a+L\n",
    "        else: b=a-L\n",
    "        b=b%N\n",
    "\n",
    "        c=np.random.randint(F)\n",
    "        if ind[a,c]==ind[b,c]:\n",
    "            dd=np.random.randint(F)\n",
    "            for Fi in range(F):\n",
    "                d=(dd+Fi)%F\n",
    "                if ind[a,d]!=ind[b,d]:\n",
    "                    ind[a,d]=ind[b,d].copy()\n",
    "                    break\n",
    "                    \n",
    "    aa[tnn]=np.reshape(ind[:,1],(L,L))\n",
    "        \n",
    "    \n",
    "    #ax.pcolormesh(aa[tnn],cmap=\"bwr\")\n",
    "    #ax.title(str(tnn))\n",
    "    #plt.show\n",
    "        \n",
    "    print('{}\\r'.format(tnn), end=\"\")\n",
    "print()"
   ]
  },
  {
   "cell_type": "code",
   "execution_count": null,
   "metadata": {},
   "outputs": [],
   "source": [
    "#collapse\n",
    "%matplotlib widget\n",
    "from matplotlib.animation import FuncAnimation\n",
    "import matplotlib.animation as animation\n",
    "\n",
    "'''try:\n",
    "    plt.style.use('ggplot')\n",
    "except:\n",
    "    pass'''\n",
    "\n",
    "animation_type = 'pcolor'\n",
    "\n",
    "fig, ax = plt.subplots(figsize=(4, 4))\n",
    "ax.set(xlim=(0, L-1), ylim=(0, L-1))\n",
    "x=np.arange(L)\n",
    "y=np.arange(L)\n",
    "t=np.arange(1000)\n",
    "X,Y,T=np.meshgrid(x, y, t)\n",
    "\n",
    "        \n",
    "if animation_type == 'pcolor':\n",
    "    cax = ax.pcolormesh(x, y, aa[0,:-1, :-1], cmap='bwr')\n",
    "    #fig.colorbar(cax)\n",
    "def animate(i):\n",
    "    cax.set_array(aa[i,:-1, :-1].flatten())\n",
    "    \n",
    "anim = FuncAnimation(fig, animate, frames=len(t)-1, repeat=False, interval=100)\n",
    "fig.show()\n",
    "\n"
   ]
  },
  {
   "cell_type": "markdown",
   "metadata": {},
   "source": [
    "> youtube: https://youtu.be/mKio9pir8Dk"
   ]
  },
  {
   "cell_type": "markdown",
   "metadata": {},
   "source": [
    "# Studio degli stati finali: Absorbing States"
   ]
  },
  {
   "cell_type": "markdown",
   "metadata": {},
   "source": [
    "Per costruzione del tipo di interazione, l'evoluzione dinamica tende ad ordinare il sistema e a diminuire il numero dei differenti valori di $q$ relativi a ciascuna features $f$. È intuitivo che per bassi valori di $Q$ il sistema già inizialmente si trovi in uno stato piuttosto omogeneo se confrontato con sistemi con $Q>>1$  per cui la distribuzione dei valori di $q$ è molto più larga, perciò ci si aspetta una maggiore facilità per i casi con bassi valori di $Q$ di raggiungere un consenso, fenomeno verificato come vedremo dalle simulazioni.\n",
    "\n",
    "Possiamo notare che nel caso in cui ogni coppia possibile di primi vicini condivida o tutte le features o nessuna, la dinamica del sistema si arresta. Tali stati prendono il nome Absorbing States che per definizione sono gli stati finali dell'evoluzione dinamica del sistema. Possono esistere vari tipi di Absorbing States come vedremo, che possono essere più o meno ordinati. Per sistemi di dimensione finita può essere verificato che la dinamica raggiunge sempre uno stato Absorbing in un tempo finito. \n",
    "\n",
    "\n",
    "\n",
    "La prima parte di questa relazione andrà a presentare i dati relativi agli studi effettuati appunto sulle proprietà degli Absorbing States finali. L'osservabile studiata in questa parte è una sorta di densità di magnetizzazione, $⟨s_{max}⟩$, ovvero il numero di siti che presentano lo stesso valore $q$ di una certa feature $f$ per cui questa grandezza risulti massima, normalizzato col numero totale di elementi e mediato su varie realizzazioni della dinamica effettuate con gli stessi parametri **ma stati iniziali diversi**. Il parametro d'ordine attraverso il quale verrà studiato l'andamento di $⟨s_{max}⟩$ è $Q$, ovvero il numero di possibili scelte per ogni feature.\n",
    "\n",
    "I risultati riportati si riferiscono a **vari valori di F ed N**.\n",
    "\n"
   ]
  },
  {
   "cell_type": "markdown",
   "metadata": {},
   "source": [
    "### ***spezzettare, descrivere e togliere le funzioni inutili***"
   ]
  },
  {
   "cell_type": "code",
   "execution_count": null,
   "metadata": {},
   "outputs": [],
   "source": [
    "#collapse\n",
    "#%matplotlib inline\n",
    "import numpy as np\n",
    "import matplotlib.pyplot as plt\n",
    "#import matplotlib as mpl\n",
    "#mpl.rcParams['errorbar.capsize'] = 3\n",
    "\n",
    "def iniState(N,F,Q):\n",
    "    return np.random.randint(Q,size=(N,F))\n",
    "\n",
    "def chooseBlat(a):\n",
    "    b1=np.random.randint(D*2)\n",
    "    if b1==0: \n",
    "        if (a+1)%L==0:\n",
    "            b=a+1-L\n",
    "        else: b=a+1\n",
    "    elif b1==1:\n",
    "        if a%L==0:\n",
    "            b=a-1+L\n",
    "        else: b=a-1\n",
    "    elif b1==2: b=a+L\n",
    "    else: b=a-L\n",
    "    return b%N\n",
    "\n",
    "def AdD(D,L):\n",
    "    # This function returns the sparse adjacency matrix of a d-dimensonal  \n",
    "    # integer lattice with side L and the total number of elements N=L**d\n",
    "    # Only for Periodic Boundary Conditions\n",
    "    \n",
    "    import scipy.sparse as ss\n",
    "    N=L**D\n",
    "    A=ss.dok_matrix((N,N),dtype=int)   # integer\n",
    "    for i in range(N):\n",
    "        for j in range(D):\n",
    "            A[i,(i+L**j)%N] = 1\n",
    "            A[i,(i-L**j)%N] = 1\n",
    "    return A.copy()#.tocoo()\n",
    "\n",
    "def chooseB(a,A):\n",
    "    return A[a].nonzero()[1][np.random.randint(2*D)]\n",
    "\n",
    "def calcMag(indi):\n",
    "    mag=np.zeros((F,Q))\n",
    "    for f in range(F):\n",
    "        for q in range(Q):\n",
    "            for i in range(N):\n",
    "                if indi[i,f]==q:\n",
    "                    mag[f,q]+=1\n",
    "    return mag/N\n",
    "\n",
    "def Bdx(a):\n",
    "    if (a+1)%L==0:\n",
    "        b=a+1-L\n",
    "    else: b=a+1\n",
    "    return np.int(b)\n",
    "        \n",
    "def Bdw(a):\n",
    "    b=a+L\n",
    "    return np.int(b%N)"
   ]
  },
  {
   "cell_type": "code",
   "execution_count": null,
   "metadata": {},
   "outputs": [],
   "source": [
    "#collapse\n",
    "%%time\n",
    "\n",
    "Lv=np.array([10,15,20])\n",
    "D=2\n",
    "F=8\n",
    "\n",
    "TN=100000\n",
    "\n",
    "rep=25\n",
    "\n",
    "Qrange=np.array([2,5,10,20,30,40,60,100])\n",
    "qrange=np.arange(Qrange.size)\n",
    "magv=np.zeros((Lv.size,Qrange.size,rep))\n",
    "TCv=np.zeros((Lv.size,Qrange.size,rep))\n",
    "nA=np.zeros((Lv.size,Qrange.size,TN,rep))\n",
    "\n",
    "ll=0\n",
    "for L in Lv:\n",
    "    N=L**D\n",
    "    for rip in range(rep):\n",
    "        q=0\n",
    "        for Q in Qrange:\n",
    "\n",
    "            TC=TN-1\n",
    "            ind=np.zeros((N,F),dtype=int)\n",
    "            ind=iniState(N,F,Q)\n",
    "            indt=np.zeros((N,F),dtype=int)\n",
    "            mag=0\n",
    "            \n",
    "            \n",
    "\n",
    "            for tnn in np.arange(TN):\n",
    "                Act=np.zeros((D*N,2),dtype=int)-1\n",
    "                for ai in range(N):\n",
    "                    bi=Bdx(ai)\n",
    "                    if (ind[ai]==ind[bi]).any() and (ind[ai]!=ind[bi]).any():\n",
    "                        Act[D*ai]=np.array([ai,bi])\n",
    "\n",
    "                    ci=Bdw(ai)\n",
    "                    if(ind[ai]==ind[ci]).any() and (ind[ai]!=ind[ci]).any():\n",
    "                        Act[D*ai+1]=np.array([ai,ci])\n",
    "                        \n",
    "                nA[ll,q,tnn,rip]=(Act[:,0]+1).nonzero()[0].size/N/2\n",
    "\n",
    "                \n",
    "                if nA[ll,q,tnn,rip]==0:\n",
    "                    TC=tnn\n",
    "                    break\n",
    "                \n",
    "                mag=calcMag(ind)  # magnetization\n",
    "                \n",
    "                \n",
    "                indt=ind.copy()\n",
    "                for tn in np.arange(N):\n",
    "                    a=np.random.randint(N)\n",
    "                    b=chooseBlat(a)\n",
    "\n",
    "                    if (indt[a]!=indt[b]).any() and (indt[a]==indt[b]).any():\n",
    "                        c=np.random.randint(F)\n",
    "                        if indt[a,c]==indt[b,c]:\n",
    "                            dd=np.random.randint(F)\n",
    "                            for Fi in range(F):\n",
    "                                d=(dd+Fi)%F\n",
    "                                if indt[a,d]!=indt[b,d]:\n",
    "                                    indt[a,d]=indt[b,d].copy()\n",
    "                                    break\n",
    "\n",
    "                ind=indt.copy()\n",
    "                \n",
    "                #print('{}\\r'.format(tnn), end=\"\")\n",
    "\n",
    "                \n",
    "            magv[ll,q,rip]=np.amax(mag)\n",
    "            TCv[ll,q,rip]=TC\n",
    "            q+=1\n",
    "            \n",
    "        print('{}\\r'.format(rip), end=\"\")\n",
    "    ll+=1\n",
    "    \n",
    "print()\n",
    "\n",
    "# fig only for L=20 \n",
    "\n",
    "TCM=int(np.amax(TCv[2]))\n",
    "for Q in range(Qrange.size):\n",
    "    #plt.errorbar(range(TCM),nA[Q].mean(axis=1)[:TCM],yerr=nA[Q].std(axis=1)[:TCM], label=\"Q=\"+str(Qrange[Q]))\n",
    "    plt.plot(range(TCM),nA[2,Q].mean(axis=1)[:TCM])\n",
    "    plt.xlabel('t')\n",
    "    plt.ylabel('Activity')\n",
    "    plt.xscale(\"log\")\n",
    "    \n",
    "#plt.legend()\n",
    "    \n",
    "#plt.plot(range(TC),nA[:TC]/N)\n",
    "#plt.xscale(\"log\")\n",
    "plt.show()"
   ]
  },
  {
   "cell_type": "code",
   "execution_count": 9,
   "metadata": {},
   "outputs": [
    {
     "data": {
      "image/png": "[encoded data removed]",
      "text/plain": [
       "<Figure size 432x288 with 1 Axes>"
      ]
     },
     "metadata": {
      "needs_background": "light"
     },
     "output_type": "display_data"
    }
   ],
   "source": [
    "#collapse\n",
    "for i in range(Lv.size):\n",
    "    plt.errorbar(Qrange,magv[i].mean(axis=1),yerr=magv[i].std(axis=1), label=\"L=\"+str(Lv[i]), marker='.')\n",
    "    plt.xlabel('q')\n",
    "    plt.ylabel('<s>/L^2')\n",
    "    \n",
    "plt.legend()\n",
    "plt.show()"
   ]
  },
  {
   "cell_type": "markdown",
   "metadata": {},
   "source": [
    "# Studio della dinamica "
   ]
  },
  {
   "cell_type": "code",
   "execution_count": 54,
   "metadata": {},
   "outputs": [
    {
     "name": "stdout",
     "output_type": "stream",
     "text": [
      "24\n"
     ]
    },
    {
     "data": {
      "image/png": "[encoded data removed]",
      "text/plain": [
       "<Figure size 432x288 with 1 Axes>"
      ]
     },
     "metadata": {
      "needs_background": "light"
     },
     "output_type": "display_data"
    },
    {
     "name": "stdout",
     "output_type": "stream",
     "text": [
      "CPU times: user 6h 48min 55s, sys: 14.1 s, total: 6h 49min 9s\n",
      "Wall time: 6h 49min 6s\n"
     ]
    }
   ],
   "source": [
    "#collapse\n",
    "%%time\n",
    "\n",
    "Lv=np.array([10,15,20])\n",
    "D=2\n",
    "F=8\n",
    "\n",
    "TN=100000\n",
    "\n",
    "rep=25\n",
    "\n",
    "Qrange=np.array([2,5,10,20,30,40,60,100])\n",
    "qrange=np.arange(Qrange.size)\n",
    "magv=np.zeros((Lv.size,Qrange.size,rep))\n",
    "TCv=np.zeros((Lv.size,Qrange.size,rep))\n",
    "nA=np.zeros((Lv.size,Qrange.size,TN,rep))\n",
    "\n",
    "ll=0\n",
    "for L in Lv:\n",
    "    N=L**D\n",
    "    for rip in range(rep):\n",
    "        q=0\n",
    "        for Q in Qrange:\n",
    "\n",
    "            TC=TN-1\n",
    "            ind=np.zeros((N,F),dtype=int)\n",
    "            ind=iniState(N,F,Q)\n",
    "            indt=np.zeros((N,F),dtype=int)\n",
    "            mag=0\n",
    "            \n",
    "            \n",
    "\n",
    "            for tnn in np.arange(TN):\n",
    "                Act=np.zeros((D*N,2),dtype=int)-1\n",
    "                for ai in range(N):\n",
    "                    bi=Bdx(ai)\n",
    "                    if (ind[ai]==ind[bi]).any() and (ind[ai]!=ind[bi]).any():\n",
    "                        Act[D*ai]=np.array([ai,bi])\n",
    "\n",
    "                    ci=Bdw(ai)\n",
    "                    if(ind[ai]==ind[ci]).any() and (ind[ai]!=ind[ci]).any():\n",
    "                        Act[D*ai+1]=np.array([ai,ci])\n",
    "                        \n",
    "                nA[ll,q,tnn,rip]=(Act[:,0]+1).nonzero()[0].size/N/2\n",
    "\n",
    "                \n",
    "                if nA[ll,q,tnn,rip]==0:\n",
    "                    TC=tnn\n",
    "                    break\n",
    "                \n",
    "                mag=calcMag(ind)  # magnetization\n",
    "                \n",
    "                \n",
    "                indt=ind.copy()\n",
    "                for tn in np.arange(N):\n",
    "                    a=np.random.randint(N)\n",
    "                    b=chooseBlat(a)\n",
    "\n",
    "                    if (indt[a]!=indt[b]).any() and (indt[a]==indt[b]).any():\n",
    "                        c=np.random.randint(F)\n",
    "                        if indt[a,c]==indt[b,c]:\n",
    "                            dd=np.random.randint(F)\n",
    "                            for Fi in range(F):\n",
    "                                d=(dd+Fi)%F\n",
    "                                if indt[a,d]!=indt[b,d]:\n",
    "                                    indt[a,d]=indt[b,d].copy()\n",
    "                                    break\n",
    "\n",
    "                ind=indt.copy()\n",
    "                \n",
    "                #print('{}\\r'.format(tnn), end=\"\")\n",
    "\n",
    "                \n",
    "            magv[ll,q,rip]=np.amax(mag)\n",
    "            TCv[ll,q,rip]=TC\n",
    "            q+=1\n",
    "            \n",
    "        print('{}\\r'.format(rip), end=\"\")\n",
    "    ll+=1\n",
    "    \n",
    "print()\n",
    "\n",
    "# fig only for L=20 \n",
    "\n",
    "TCM=int(np.amax(TCv[2]))\n",
    "for Q in range(Qrange.size):\n",
    "    #plt.errorbar(range(TCM),nA[Q].mean(axis=1)[:TCM],yerr=nA[Q].std(axis=1)[:TCM], label=\"Q=\"+str(Qrange[Q]))\n",
    "    plt.plot(range(TCM),nA[2,Q].mean(axis=1)[:TCM])\n",
    "    plt.xlabel('t')\n",
    "    plt.ylabel('Activity')\n",
    "    plt.xscale(\"log\")\n",
    "    \n",
    "#plt.legend()\n",
    "    \n",
    "#plt.plot(range(TC),nA[:TC]/N)\n",
    "#plt.xscale(\"log\")\n",
    "plt.show()"
   ]
  },
  {
   "cell_type": "markdown",
   "metadata": {},
   "source": [
    "# Studio dei tempi caratteristici"
   ]
  },
  {
   "cell_type": "code",
   "execution_count": null,
   "metadata": {},
   "outputs": [],
   "source": [
    "#collapse\n",
    "%%time\n",
    "\n",
    "Lv=np.array([10,15,20])\n",
    "D=2\n",
    "F=8\n",
    "\n",
    "TN=100000\n",
    "\n",
    "rep=25\n",
    "\n",
    "Qrange=np.array([2,5,10,20,30,40,60,100])\n",
    "qrange=np.arange(Qrange.size)\n",
    "magv=np.zeros((Lv.size,Qrange.size,rep))\n",
    "TCv=np.zeros((Lv.size,Qrange.size,rep))\n",
    "nA=np.zeros((Lv.size,Qrange.size,TN,rep))\n",
    "\n",
    "ll=0\n",
    "for L in Lv:\n",
    "    N=L**D\n",
    "    for rip in range(rep):\n",
    "        q=0\n",
    "        for Q in Qrange:\n",
    "\n",
    "            TC=TN-1\n",
    "            ind=np.zeros((N,F),dtype=int)\n",
    "            ind=iniState(N,F,Q)\n",
    "            indt=np.zeros((N,F),dtype=int)\n",
    "            mag=0\n",
    "            \n",
    "            \n",
    "\n",
    "            for tnn in np.arange(TN):\n",
    "                Act=np.zeros((D*N,2),dtype=int)-1\n",
    "                for ai in range(N):\n",
    "                    bi=Bdx(ai)\n",
    "                    if (ind[ai]==ind[bi]).any() and (ind[ai]!=ind[bi]).any():\n",
    "                        Act[D*ai]=np.array([ai,bi])\n",
    "\n",
    "                    ci=Bdw(ai)\n",
    "                    if(ind[ai]==ind[ci]).any() and (ind[ai]!=ind[ci]).any():\n",
    "                        Act[D*ai+1]=np.array([ai,ci])\n",
    "                        \n",
    "                nA[ll,q,tnn,rip]=(Act[:,0]+1).nonzero()[0].size/N/2\n",
    "\n",
    "                \n",
    "                if nA[ll,q,tnn,rip]==0:\n",
    "                    TC=tnn\n",
    "                    break\n",
    "                \n",
    "                mag=calcMag(ind)  # magnetization\n",
    "                \n",
    "                \n",
    "                indt=ind.copy()\n",
    "                for tn in np.arange(N):\n",
    "                    a=np.random.randint(N)\n",
    "                    b=chooseBlat(a)\n",
    "\n",
    "                    if (indt[a]!=indt[b]).any() and (indt[a]==indt[b]).any():\n",
    "                        c=np.random.randint(F)\n",
    "                        if indt[a,c]==indt[b,c]:\n",
    "                            dd=np.random.randint(F)\n",
    "                            for Fi in range(F):\n",
    "                                d=(dd+Fi)%F\n",
    "                                if indt[a,d]!=indt[b,d]:\n",
    "                                    indt[a,d]=indt[b,d].copy()\n",
    "                                    break\n",
    "\n",
    "                ind=indt.copy()\n",
    "                \n",
    "                #print('{}\\r'.format(tnn), end=\"\")\n",
    "\n",
    "                \n",
    "            magv[ll,q,rip]=np.amax(mag)\n",
    "            TCv[ll,q,rip]=TC\n",
    "            q+=1\n",
    "            \n",
    "        print('{}\\r'.format(rip), end=\"\")\n",
    "    ll+=1\n",
    "    \n",
    "print()\n",
    "\n",
    "# fig only for L=20 \n",
    "\n",
    "TCM=int(np.amax(TCv[2]))\n",
    "for Q in range(Qrange.size):\n",
    "    #plt.errorbar(range(TCM),nA[Q].mean(axis=1)[:TCM],yerr=nA[Q].std(axis=1)[:TCM], label=\"Q=\"+str(Qrange[Q]))\n",
    "    plt.plot(range(TCM),nA[2,Q].mean(axis=1)[:TCM])\n",
    "    plt.xlabel('t')\n",
    "    plt.ylabel('Activity')\n",
    "    plt.xscale(\"log\")\n",
    "    \n",
    "#plt.legend()\n",
    "    \n",
    "#plt.plot(range(TC),nA[:TC]/N)\n",
    "#plt.xscale(\"log\")\n",
    "plt.show()"
   ]
  },
  {
   "cell_type": "code",
   "execution_count": 101,
   "metadata": {},
   "outputs": [
    {
     "data": {
      "image/png": "[encoded data removed]",
      "text/plain": [
       "<Figure size 432x288 with 1 Axes>"
      ]
     },
     "metadata": {
      "needs_background": "light"
     },
     "output_type": "display_data"
    }
   ],
   "source": [
    "#TCM=int(np.amax(TCv[2]))\n",
    "#for i in range(Lv.size):\n",
    "plt.errorbar(Lv,TCv[:,0].mean(axis=1),yerr=TCv[:,0].std(axis=1), marker='.')\n",
    "plt.xlabel('L')\n",
    "plt.ylabel('Tco')\n",
    "plt.xscale(\"log\")\n",
    "plt.yscale(\"log\")\n",
    "\n",
    "plt.show()"
   ]
  },
  {
   "cell_type": "markdown",
   "metadata": {},
   "source": [
    "# Conclusioni "
   ]
  },
  {
   "cell_type": "markdown",
   "metadata": {},
   "source": [
    "# Bibliografia"
   ]
  },
  {
   "cell_type": "markdown",
   "metadata": {},
   "source": [
    "Axelrod, R., 1997, J. Conﬂict Resolut. 41(2), 203.\n",
    "\n",
    "C. Castellano, M. Marsili, and A. Vespignani, 2000, Phys. Rev. Lett. 85(16), 3536.\n",
    "\n",
    "C. Castellano, S. Fortunato and V. Loreto, “Statistical Physics of Social Dynamics, Rev. Mod. Phys. 81, 591 (2009)."
   ]
  },
  {
   "cell_type": "code",
   "execution_count": null,
   "metadata": {},
   "outputs": [],
   "source": []
  }
 ],
 "metadata": {
  "environment": {
   "name": "common-cpu.m55",
   "type": "gcloud",
   "uri": "gcr.io/deeplearning-platform-release/base-cpu:m55"
  },
  "kernelspec": {
   "display_name": "Python 3",
   "language": "python",
   "name": "python3"
  },
  "language_info": {
   "codemirror_mode": {
    "name": "ipython",
    "version": 3
   },
   "file_extension": ".py",
   "mimetype": "text/x-python",
   "name": "python",
   "nbconvert_exporter": "python",
   "pygments_lexer": "ipython3",
   "version": "3.7.8"
  }
 },
 "nbformat": 4,
 "nbformat_minor": 4
}
