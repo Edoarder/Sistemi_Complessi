{
 "cells": [
  {
   "cell_type": "code",
   "execution_count": 1,
   "metadata": {},
   "outputs": [],
   "source": [
    "%matplotlib inline\n",
    "\n",
    "import numpy as np\n",
    "import matplotlib.pyplot as plt\n",
    "import matplotlib.animation as animation\n",
    "from matplotlib.animation import FuncAnimation"
   ]
  },
  {
   "cell_type": "code",
   "execution_count": 182,
   "metadata": {},
   "outputs": [],
   "source": []
  },
  {
   "cell_type": "code",
   "execution_count": 2,
   "metadata": {
    "scrolled": false
   },
   "outputs": [
    {
     "name": "stdout",
     "output_type": "stream",
     "text": [
      "99\n",
      "CPU times: user 2.86 s, sys: 29.8 ms, total: 2.89 s\n",
      "Wall time: 2.93 s\n"
     ]
    }
   ],
   "source": [
    "%%time\n",
    "\n",
    "L=10\n",
    "D=2\n",
    "N=L**D\n",
    "F=10\n",
    "Q=4\n",
    "ind=np.random.randint(Q,size=(N,F))\n",
    "\n",
    "TN=100\n",
    "T=1000\n",
    "t=np.arange(T)\n",
    "ok=False\n",
    "\n",
    "aa=np.zeros((TN,L,L),dtype=int)\n",
    "\n",
    "#fig, ax = plt.subplots(figsize=(4, 4))\n",
    "\n",
    "for tnn in range(TN):\n",
    "    for tn in t:\n",
    "        a=np.random.randint(N)\n",
    "        b1=np.random.randint(D*2)\n",
    "        if b1==0: \n",
    "            if (a+1)%L==0:\n",
    "                b=a+1-L\n",
    "            else: b=a+1\n",
    "        elif b1==1:\n",
    "            if a%L==0:\n",
    "                b=a-1+L\n",
    "            else: b=a-1\n",
    "        elif b1==2: b=a+L\n",
    "        else: b=a-L\n",
    "        b=b%N\n",
    "\n",
    "        c=np.random.randint(F)\n",
    "        if ind[a,c]==ind[b,c]:\n",
    "            dd=np.random.randint(F)\n",
    "            for Fi in range(F):\n",
    "                d=(dd+Fi)%F\n",
    "                if ind[a,d]!=ind[b,d]:\n",
    "                    ind[a,d]=ind[b,d].copy()\n",
    "                    break\n",
    "                    \n",
    "    aa[tnn]=np.reshape(ind[:,1],(L,L))\n",
    "        \n",
    "    \n",
    "    #ax.pcolormesh(aa[tnn],cmap=\"bwr\")\n",
    "    #ax.title(str(tnn))\n",
    "    #plt.show\n",
    "        \n",
    "    print('{}\\r'.format(tnn), end=\"\")\n",
    "print()"
   ]
  },
  {
   "cell_type": "code",
   "execution_count": 3,
   "metadata": {
    "scrolled": true
   },
   "outputs": [
    {
     "data": {
      "application/vnd.jupyter.widget-view+json": {
       "model_id": "4a0fa967160249f09e6bc9a1033808b1",
       "version_major": 2,
       "version_minor": 0
      },
      "text/plain": [
       "Canvas(toolbar=Toolbar(toolitems=[('Home', 'Reset original view', 'home', 'home'), ('Back', 'Back to previous …"
      ]
     },
     "metadata": {},
     "output_type": "display_data"
    }
   ],
   "source": [
    "%matplotlib widget\n",
    "from matplotlib.animation import FuncAnimation\n",
    "import matplotlib.animation as animation\n",
    "\n",
    "'''try:\n",
    "    plt.style.use('ggplot')\n",
    "except:\n",
    "    pass'''\n",
    "\n",
    "animation_type = 'pcolor'\n",
    "\n",
    "fig, ax = plt.subplots(figsize=(4, 4))\n",
    "ax.set(xlim=(0, L-1), ylim=(0, L-1))\n",
    "x=np.arange(L)\n",
    "y=np.arange(L)\n",
    "t=np.arange(1000)\n",
    "X,Y,T=np.meshgrid(x, y, t)\n",
    "\n",
    "        \n",
    "if animation_type == 'pcolor':\n",
    "    cax = ax.pcolormesh(x, y, aa[0,:-1, :-1], cmap='bwr')\n",
    "    #fig.colorbar(cax)\n",
    "def animate(i):\n",
    "    cax.set_array(aa[i,:-1, :-1].flatten())\n",
    "    \n",
    "anim = FuncAnimation(fig, animate, frames=len(t)-1, repeat=False, interval=100)\n",
    "fig.show()\n"
   ]
  },
  {
   "cell_type": "code",
   "execution_count": 51,
   "metadata": {},
   "outputs": [],
   "source": [
    "mag=np.zeros((TN,F))\n",
    "ind2=np.reshape(aa,(TN,N))\n",
    "for tnn in range(TN):\n",
    "    for Qi in range(Q):\n",
    "        for i in range(N):\n",
    "            if (ind2[tnn,i]+1)%(Qi+1)==0:\n",
    "                mag[tnn,Qi]+=1\n",
    "mag=mag/N"
   ]
  },
  {
   "cell_type": "code",
   "execution_count": 52,
   "metadata": {},
   "outputs": [
    {
     "data": {
      "application/vnd.jupyter.widget-view+json": {
       "model_id": "968714327ff54612b3013c30c9ea54d6",
       "version_major": 2,
       "version_minor": 0
      },
      "text/plain": [
       "Canvas(toolbar=Toolbar(toolitems=[('Home', 'Reset original view', 'home', 'home'), ('Back', 'Back to previous …"
      ]
     },
     "metadata": {},
     "output_type": "display_data"
    },
    {
     "data": {
      "text/plain": [
       "[<matplotlib.lines.Line2D at 0x7f8d0c3577d0>,\n",
       " <matplotlib.lines.Line2D at 0x7f8d0c33c790>,\n",
       " <matplotlib.lines.Line2D at 0x7f8d0c3610d0>,\n",
       " <matplotlib.lines.Line2D at 0x7f8d0c3615d0>,\n",
       " <matplotlib.lines.Line2D at 0x7f8d0c3614d0>,\n",
       " <matplotlib.lines.Line2D at 0x7f8d0c361650>,\n",
       " <matplotlib.lines.Line2D at 0x7f8d0c361890>,\n",
       " <matplotlib.lines.Line2D at 0x7f8d0c35f310>,\n",
       " <matplotlib.lines.Line2D at 0x7f8d0c361bd0>,\n",
       " <matplotlib.lines.Line2D at 0x7f8d0c361690>]"
      ]
     },
     "execution_count": 52,
     "metadata": {},
     "output_type": "execute_result"
    }
   ],
   "source": [
    "fig, ax1 = plt.subplots(figsize=(4, 4))\n",
    "ax1.plot(mag)"
   ]
  },
  {
   "cell_type": "code",
   "execution_count": 40,
   "metadata": {},
   "outputs": [
    {
     "data": {
      "text/plain": [
       "array([1.    , 0.4075, 0.    , 0.    , 0.    , 0.    , 0.    , 0.    ,\n",
       "       0.    , 0.    ])"
      ]
     },
     "execution_count": 40,
     "metadata": {},
     "output_type": "execute_result"
    }
   ],
   "source": [
    "mag[999,:]"
   ]
  },
  {
   "cell_type": "code",
   "execution_count": null,
   "metadata": {},
   "outputs": [],
   "source": [
    "import matplotlib\n",
    "import matplotlib.pyplot as plt\n",
    "from matplotlib.animation import FuncAnimation\n",
    "\n",
    "fig = plt.figure(figsize=(5,5))\n",
    "cax = ax.pcolormesh(x, y, aa[0,:-1, :-1])"
   ]
  },
  {
   "cell_type": "code",
   "execution_count": 31,
   "metadata": {},
   "outputs": [
    {
     "ename": "ValueError",
     "evalue": "All blocks must animate for the same amount of time",
     "output_type": "error",
     "traceback": [
      "\u001b[0;31m---------------------------------------------------------------------------\u001b[0m",
      "\u001b[0;31mValueError\u001b[0m                                Traceback (most recent call last)",
      "\u001b[0;32m<ipython-input-31-8dc00daaf6db>\u001b[0m in \u001b[0;36m<module>\u001b[0;34m\u001b[0m\n\u001b[1;32m      6\u001b[0m \u001b[0mplt\u001b[0m\u001b[0;34m.\u001b[0m\u001b[0mgca\u001b[0m\u001b[0;34m(\u001b[0m\u001b[0;34m)\u001b[0m\u001b[0;34m.\u001b[0m\u001b[0mset_aspect\u001b[0m\u001b[0;34m(\u001b[0m\u001b[0;34m'equal'\u001b[0m\u001b[0;34m)\u001b[0m\u001b[0;34m\u001b[0m\u001b[0;34m\u001b[0m\u001b[0m\n\u001b[1;32m      7\u001b[0m \u001b[0;34m\u001b[0m\u001b[0m\n\u001b[0;32m----> 8\u001b[0;31m \u001b[0manim\u001b[0m \u001b[0;34m=\u001b[0m \u001b[0mamp\u001b[0m\u001b[0;34m.\u001b[0m\u001b[0mAnimation\u001b[0m\u001b[0;34m(\u001b[0m\u001b[0;34m[\u001b[0m\u001b[0mblock\u001b[0m\u001b[0;34m]\u001b[0m\u001b[0;34m,\u001b[0m \u001b[0mamp\u001b[0m\u001b[0;34m.\u001b[0m\u001b[0mTimeline\u001b[0m\u001b[0;34m(\u001b[0m\u001b[0mt\u001b[0m\u001b[0;34m)\u001b[0m\u001b[0;34m)\u001b[0m\u001b[0;34m\u001b[0m\u001b[0;34m\u001b[0m\u001b[0m\n\u001b[0m\u001b[1;32m      9\u001b[0m \u001b[0;34m\u001b[0m\u001b[0m\n\u001b[1;32m     10\u001b[0m \u001b[0manim\u001b[0m\u001b[0;34m.\u001b[0m\u001b[0mcontrols\u001b[0m\u001b[0;34m(\u001b[0m\u001b[0;34m)\u001b[0m\u001b[0;34m\u001b[0m\u001b[0;34m\u001b[0m\u001b[0m\n",
      "\u001b[0;32m/opt/anaconda3/lib/python3.7/site-packages/animatplot/animation.py\u001b[0m in \u001b[0;36m__init__\u001b[0;34m(self, blocks, timeline, fig)\u001b[0m\n\u001b[1;32m     37\u001b[0m         \u001b[0;32mfor\u001b[0m \u001b[0mblock\u001b[0m \u001b[0;32min\u001b[0m \u001b[0mblocks\u001b[0m\u001b[0;34m:\u001b[0m\u001b[0;34m\u001b[0m\u001b[0;34m\u001b[0m\u001b[0m\n\u001b[1;32m     38\u001b[0m             \u001b[0;32mif\u001b[0m \u001b[0mlen\u001b[0m\u001b[0;34m(\u001b[0m\u001b[0mblock\u001b[0m\u001b[0;34m)\u001b[0m \u001b[0;34m!=\u001b[0m \u001b[0m_len_time\u001b[0m\u001b[0;34m:\u001b[0m\u001b[0;34m\u001b[0m\u001b[0;34m\u001b[0m\u001b[0m\n\u001b[0;32m---> 39\u001b[0;31m                 \u001b[0;32mraise\u001b[0m \u001b[0mValueError\u001b[0m\u001b[0;34m(\u001b[0m\u001b[0;34m\"All blocks must animate for the same amount of time\"\u001b[0m\u001b[0;34m)\u001b[0m\u001b[0;34m\u001b[0m\u001b[0;34m\u001b[0m\u001b[0m\n\u001b[0m\u001b[1;32m     40\u001b[0m \u001b[0;34m\u001b[0m\u001b[0m\n\u001b[1;32m     41\u001b[0m         \u001b[0mself\u001b[0m\u001b[0;34m.\u001b[0m\u001b[0mblocks\u001b[0m \u001b[0;34m=\u001b[0m \u001b[0mblocks\u001b[0m\u001b[0;34m\u001b[0m\u001b[0;34m\u001b[0m\u001b[0m\n",
      "\u001b[0;31mValueError\u001b[0m: All blocks must animate for the same amount of time"
     ]
    },
    {
     "data": {
      "image/png": "[encoded data removed]",
      "text/plain": [
       "<Figure size 432x288 with 2 Axes>"
      ]
     },
     "metadata": {
      "needs_background": "light"
     },
     "output_type": "display_data"
    }
   ],
   "source": [
    "import animatplot as amp\n",
    "t=np.arange(1000)\n",
    "\n",
    "block = amp.blocks.Pcolormesh(aa, t_axis=2, cmap='RdBu')\n",
    "plt.colorbar(block.quad)\n",
    "plt.gca().set_aspect('equal')\n",
    "\n",
    "anim = amp.Animation([block], amp.Timeline(t))\n",
    "\n",
    "anim.controls()\n",
    "\n",
    "anim.save_gif('pcolormesh')\n",
    "plt.show()"
   ]
  },
  {
   "cell_type": "code",
   "execution_count": 25,
   "metadata": {},
   "outputs": [
    {
     "data": {
      "image/png": "[encoded data removed]",
      "text/plain": [
       "<Figure size 432x288 with 2 Axes>"
      ]
     },
     "metadata": {
      "needs_background": "light"
     },
     "output_type": "display_data"
    },
    {
     "data": {
      "text/plain": [
       "<Figure size 432x288 with 0 Axes>"
      ]
     },
     "metadata": {},
     "output_type": "display_data"
    }
   ],
   "source": [
    "ax = plt.subplot(111)\n",
    "\n",
    "quad = plt.pcolormesh(aa[0])\n",
    "\n",
    "plt.colorbar()\n",
    "\n",
    "plt.ion()\n",
    "plt.show()\n",
    "\n",
    "for i in range(1000):\n",
    "    z = aa[i]\n",
    "    z = z[:-1, :-1]\n",
    "\n",
    "    quad.set_array(z.ravel())\n",
    "    #plt.title('Phase: %.2f'%phase)\n",
    "    plt.draw()\n",
    "\n",
    "plt.ioff()\n",
    "plt.show()"
   ]
  },
  {
   "cell_type": "code",
   "execution_count": 275,
   "metadata": {
    "scrolled": true
   },
   "outputs": [
    {
     "name": "stdout",
     "output_type": "stream",
     "text": [
      "[[ 7  7  7 ...  4  4  4]\n",
      " [ 4  4  5 ...  4  4  4]\n",
      " [ 4  4  5 ...  4  4  4]\n",
      " ...\n",
      " [ 7  7  7 ... 18 18  8]\n",
      " [ 8  7  7 ... 18 18  8]\n",
      " [ 7  7  7 ... 18 18  7]]\n"
     ]
    }
   ],
   "source": [
    "aa=np.zeros((4,L,L),dtype=int)\n",
    "for i in range(4):\n",
    "    aa[i]=np.reshape(ind[:,i],(L,L))\n",
    "print(aa[0])"
   ]
  },
  {
   "cell_type": "code",
   "execution_count": 20,
   "metadata": {
    "scrolled": true
   },
   "outputs": [
    {
     "data": {
      "text/plain": [
       "<matplotlib.collections.QuadMesh at 0x7fde52889810>"
      ]
     },
     "execution_count": 20,
     "metadata": {},
     "output_type": "execute_result"
    },
    {
     "data": {
      "image/png": "[encoded data removed]",
      "text/plain": [
       "<Figure size 432x288 with 1 Axes>"
      ]
     },
     "metadata": {
      "needs_background": "light"
     },
     "output_type": "display_data"
    }
   ],
   "source": [
    "from matplotlib.colors import BoundaryNorm\n",
    "from matplotlib.ticker import MaxNLocator\n",
    "levels = MaxNLocator(nbins=15).tick_values(aa[0].min(), aa[0].max())\n",
    "cmap = plt.get_cmap('PiYG')\n",
    "norm = BoundaryNorm(levels, ncolors=cmap.N, clip=True)\n",
    "fig, ax = plt.subplots()\n",
    "ax.pcolormesh(aa[0],cmap=cmap, norm=norm)"
   ]
  },
  {
   "cell_type": "code",
   "execution_count": 4,
   "metadata": {},
   "outputs": [],
   "source": [
    "def iniState(N,F,Q):\n",
    "    return np.random.randint(Q,size=(N,F))\n",
    "\n",
    "def AdD(D,L):\n",
    "    # This function returns the sparse adjacency matrix of a d-dimensonal  \n",
    "        # integer lattice with side L and the total number of elements N=L**d\n",
    "    # Only for Periodic Boundary Conditions\n",
    "    \n",
    "    import scipy.sparse as ss\n",
    "    N=L**D\n",
    "    A=ss.dok_matrix((N,N),dtype=int)   # integer\n",
    "    for i in range(N):\n",
    "        for j in range(D):\n",
    "            A[i,(i+L**j)%N] = 1\n",
    "            A[i,(i-L**j)%N] = 1\n",
    "    return A.copy()#.tocoo()\n",
    "\n",
    "def chooseB(a,A):\n",
    "    return A[a].nonzero()[1][np.random.randint(2*D)]\n",
    "    \n",
    "\n"
   ]
  },
  {
   "cell_type": "code",
   "execution_count": 5,
   "metadata": {},
   "outputs": [
    {
     "name": "stdout",
     "output_type": "stream",
     "text": [
      "999\n",
      "CPU times: user 17.5 s, sys: 1.2 s, total: 18.7 s\n",
      "Wall time: 17.8 s\n"
     ]
    }
   ],
   "source": [
    "%%time\n",
    "\n",
    "L=10\n",
    "D=2\n",
    "N=L**D\n",
    "F=10\n",
    "Q=4\n",
    "ind=np.random.randint(Q,size=(N,F))\n",
    "\n",
    "TN=1000\n",
    "T=100\n",
    "t=np.arange(T)\n",
    "ok=False\n",
    "\n",
    "aa=np.zeros((TN,L,L),dtype=int)\n",
    "\n",
    "#fig, ax = plt.subplots(figsize=(4, 4))\n",
    "A=AdD(D,L)\n",
    "for tnn in range(TN):\n",
    "    for tn in t:\n",
    "        a=np.random.randint(N)\n",
    "        b=chooseB(a,A)\n",
    "\n",
    "        c=np.random.randint(F)\n",
    "        if ind[a,c]==ind[b,c]:\n",
    "            dd=np.random.randint(F)\n",
    "            for Fi in range(F):\n",
    "                d=(dd+Fi)%F\n",
    "                if ind[a,d]!=ind[b,d]:\n",
    "                    ind[a,d]=ind[b,d].copy()\n",
    "                    \n",
    "        \n",
    "    print('{}\\r'.format(tnn), end=\"\")\n",
    "print()"
   ]
  },
  {
   "cell_type": "code",
   "execution_count": null,
   "metadata": {},
   "outputs": [],
   "source": []
  }
 ],
 "metadata": {
  "kernelspec": {
   "display_name": "Python 3",
   "language": "python",
   "name": "python3"
  },
  "language_info": {
   "codemirror_mode": {
    "name": "ipython",
    "version": 3
   },
   "file_extension": ".py",
   "mimetype": "text/x-python",
   "name": "python",
   "nbconvert_exporter": "python",
   "pygments_lexer": "ipython3",
   "version": "3.7.4"
  }
 },
 "nbformat": 4,
 "nbformat_minor": 2
}
